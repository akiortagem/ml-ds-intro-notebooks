{
  "nbformat": 4,
  "nbformat_minor": 0,
  "metadata": {
    "colab": {
      "name": "Intro Slides.ipynb",
      "provenance": []
    },
    "kernelspec": {
      "name": "python3",
      "display_name": "Python 3"
    }
  },
  "cells": [
    {
      "cell_type": "markdown",
      "metadata": {
        "id": "A3dsXbzDpy7_"
      },
      "source": [
        "# Intro to Data Science and Machine Learning\n",
        "*DEEP 3.0*\n",
        "\n",
        "*Mentor : Alvin Megatroika*\n",
        "\n",
        "\n",
        "---\n",
        "\n",
        "\n"
      ]
    },
    {
      "cell_type": "markdown",
      "metadata": {
        "id": "v5kVE_QHqPkQ"
      },
      "source": [
        "## What is Data Science?\n",
        "\n",
        "## What is Machine Learning?"
      ]
    },
    {
      "cell_type": "markdown",
      "metadata": {
        "id": "Iu_NPQtAqhBm"
      },
      "source": [
        "## Data Science\n",
        "> Interdisciplinary approaches to extract knowledge and patterns from various structured (csv, sql, json etc) and unstructured (image, texts, audio, etc) data.\n",
        "\n",
        "## Machine Learning\n",
        "> Sub-discipline of AI that explores ways to provide systems the ability to automatically learn without being specifically programmed for the given rules."
      ]
    },
    {
      "cell_type": "markdown",
      "metadata": {
        "id": "cPcmoXSf2qsc"
      },
      "source": [
        "## A New Paradigm of Programming\n",
        "<img src=\"https://i.ibb.co/5n9tG86/classical.png\"/>"
      ]
    },
    {
      "cell_type": "markdown",
      "metadata": {
        "id": "YPReWTkI3stw"
      },
      "source": [
        "<img src=\"https://i.ibb.co/qBPv1Yd/machine-learning.png\" />"
      ]
    },
    {
      "cell_type": "markdown",
      "metadata": {
        "id": "PaLXy8lj3yR4"
      },
      "source": [
        "## But what can it really do, anyways?\n",
        "\n",
        "Let's get into the nitty gritty right away and see what's one of the most simplest form of machine learning can do.\n",
        "\n",
        "***Linear Regression!***\n",
        "\n",
        "Yes, this is a simple method to fit a line on data points. It simply estimates a function for the given data, as promised by the new paradigm!\n",
        "\n",
        "We can get right into the codes. Let's do so"
      ]
    },
    {
      "cell_type": "code",
      "metadata": {
        "id": "oYBkB22xpK39"
      },
      "source": [
        "import numpy as np\n",
        "import pandas as pd\n",
        "import matplotlib.pyplot as plt\n",
        "import seaborn as sns\n",
        "%matplotlib inline"
      ],
      "execution_count": null,
      "outputs": []
    },
    {
      "cell_type": "markdown",
      "metadata": {
        "id": "47nGNSBgYEel"
      },
      "source": [
        "Download the necessary data by downloading below codeblock. It will download data directly to your colab instance"
      ]
    },
    {
      "cell_type": "code",
      "metadata": {
        "id": "vcFYPa5y7LU1"
      },
      "source": [
        "!wget --no-check-certificate \\\n",
        "\"https://bali.asyst.co.id/public.php?service=files&t=a3a7c66942784791d04c684440809cdc&download\" \\\n",
        "-O /tmp/fare-pax-bali.csv"
      ],
      "execution_count": null,
      "outputs": []
    },
    {
      "cell_type": "markdown",
      "metadata": {
        "id": "CS61CQShYYGn"
      },
      "source": [
        "Here's the data that we have. It's a toy data regarding the interaction between airplane fare and how many passengers have bought the ticket.\n",
        "\n",
        "Here's the problem statement :\n",
        "> Strategic ticketing offices wishes to know if we can predict how many passengers will buy a ticket for a specific route, for a given price.\n",
        "\n",
        "So we look at the data, sample 10 rows from it to see how it generally looks"
      ]
    },
    {
      "cell_type": "code",
      "metadata": {
        "colab": {
          "base_uri": "https://localhost:8080/",
          "height": 359
        },
        "id": "U9qABG04YB_C",
        "outputId": "5557a0ae-a3f9-49e6-c6af-65d5f7e4b15d"
      },
      "source": [
        "fare_pax = pd.read_csv('/tmp/fare-pax-bali.csv')\n",
        "fare_pax.sample(10)"
      ],
      "execution_count": null,
      "outputs": [
        {
          "output_type": "execute_result",
          "data": {
            "text/html": [
              "<div>\n",
              "<style scoped>\n",
              "    .dataframe tbody tr th:only-of-type {\n",
              "        vertical-align: middle;\n",
              "    }\n",
              "\n",
              "    .dataframe tbody tr th {\n",
              "        vertical-align: top;\n",
              "    }\n",
              "\n",
              "    .dataframe thead th {\n",
              "        text-align: right;\n",
              "    }\n",
              "</style>\n",
              "<table border=\"1\" class=\"dataframe\">\n",
              "  <thead>\n",
              "    <tr style=\"text-align: right;\">\n",
              "      <th></th>\n",
              "      <th>fare</th>\n",
              "      <th>pax</th>\n",
              "    </tr>\n",
              "  </thead>\n",
              "  <tbody>\n",
              "    <tr>\n",
              "      <th>40</th>\n",
              "      <td>1061825</td>\n",
              "      <td>54.0</td>\n",
              "    </tr>\n",
              "    <tr>\n",
              "      <th>2</th>\n",
              "      <td>1235330</td>\n",
              "      <td>59.0</td>\n",
              "    </tr>\n",
              "    <tr>\n",
              "      <th>14</th>\n",
              "      <td>1408982</td>\n",
              "      <td>48.0</td>\n",
              "    </tr>\n",
              "    <tr>\n",
              "      <th>94</th>\n",
              "      <td>1115316</td>\n",
              "      <td>53.0</td>\n",
              "    </tr>\n",
              "    <tr>\n",
              "      <th>20</th>\n",
              "      <td>529024</td>\n",
              "      <td>107.0</td>\n",
              "    </tr>\n",
              "    <tr>\n",
              "      <th>71</th>\n",
              "      <td>722501</td>\n",
              "      <td>82.0</td>\n",
              "    </tr>\n",
              "    <tr>\n",
              "      <th>92</th>\n",
              "      <td>729977</td>\n",
              "      <td>87.0</td>\n",
              "    </tr>\n",
              "    <tr>\n",
              "      <th>16</th>\n",
              "      <td>1000618</td>\n",
              "      <td>55.0</td>\n",
              "    </tr>\n",
              "    <tr>\n",
              "      <th>66</th>\n",
              "      <td>671864</td>\n",
              "      <td>88.0</td>\n",
              "    </tr>\n",
              "    <tr>\n",
              "      <th>54</th>\n",
              "      <td>1499438</td>\n",
              "      <td>42.0</td>\n",
              "    </tr>\n",
              "  </tbody>\n",
              "</table>\n",
              "</div>"
            ],
            "text/plain": [
              "       fare    pax\n",
              "40  1061825   54.0\n",
              "2   1235330   59.0\n",
              "14  1408982   48.0\n",
              "94  1115316   53.0\n",
              "20   529024  107.0\n",
              "71   722501   82.0\n",
              "92   729977   87.0\n",
              "16  1000618   55.0\n",
              "66   671864   88.0\n",
              "54  1499438   42.0"
            ]
          },
          "metadata": {
            "tags": []
          },
          "execution_count": 57
        }
      ]
    },
    {
      "cell_type": "markdown",
      "metadata": {
        "id": "NuUhxF3KY51_"
      },
      "source": [
        "But we can't see any underlying rules by numbers alone. Our human eyes are flawed.\n",
        "\n",
        "In comes visualization. Let's see if these numbers makes more sense in a scatterplot.\n",
        "\n",
        "Visualizing in python nowadays is as easy as one line of code. Here goes."
      ]
    },
    {
      "cell_type": "code",
      "metadata": {
        "colab": {
          "base_uri": "https://localhost:8080/",
          "height": 296
        },
        "id": "PT-dQLs1YVOo",
        "outputId": "57c8d792-5462-4ce0-856b-965bea23e130"
      },
      "source": [
        "sns.scatterplot(x='fare', y='pax', data=fare_pax)"
      ],
      "execution_count": null,
      "outputs": [
        {
          "output_type": "execute_result",
          "data": {
            "text/plain": [
              "<matplotlib.axes._subplots.AxesSubplot at 0x7fe6ce784320>"
            ]
          },
          "metadata": {
            "tags": []
          },
          "execution_count": 58
        },
        {
          "output_type": "display_data",
          "data": {
            "image/png": "[encoded data removed]",
            "text/plain": [
              "<Figure size 432x288 with 1 Axes>"
            ]
          },
          "metadata": {
            "tags": [],
            "needs_background": "light"
          }
        }
      ]
    },
    {
      "cell_type": "markdown",
      "metadata": {
        "id": "ItfJrBjKZxGY"
      },
      "source": [
        "It is clear now that there is a strong relation between fare and pax. It seems that the more expensive a fare is, less passengers book the flight.\n",
        "\n",
        "Back to the problem statement, we are required to create something that can predict how many passengers would book a flight given the price.\n",
        "\n",
        "Fortunately for us, we can easily make such thing with scikit-learn package! Here's how"
      ]
    },
    {
      "cell_type": "markdown",
      "metadata": {
        "id": "q0674uvbaq4W"
      },
      "source": [
        "Import the scikit-learn package for Linear Regression"
      ]
    },
    {
      "cell_type": "code",
      "metadata": {
        "id": "RWwO7bvTZQdc"
      },
      "source": [
        "from sklearn.linear_model import LinearRegression"
      ],
      "execution_count": null,
      "outputs": []
    },
    {
      "cell_type": "markdown",
      "metadata": {
        "id": "o0Ut_VHxaxbi"
      },
      "source": [
        "Then we need to **fit** a model, that is figuring out a function that best represents the relationship between fare and pax. This takes a second, but in actual cases, fitting might take hours even days for larger and more complex problems"
      ]
    },
    {
      "cell_type": "code",
      "metadata": {
        "id": "v3iyRJ99a7qV"
      },
      "source": [
        "X = fare_pax['fare'].to_numpy().reshape(-1,1)\n",
        "y = fare_pax['pax'].to_numpy().reshape(-1,1)\n",
        "reg = LinearRegression().fit(X, y)"
      ],
      "execution_count": null,
      "outputs": []
    },
    {
      "cell_type": "markdown",
      "metadata": {
        "id": "ZICoWYo9cC67"
      },
      "source": [
        "When that's done, we can use the **fitted model** to predict pax from new prices! Let's see how many passengers a price of IDR 1,500,000 will get. This helper function will help you do so. "
      ]
    },
    {
      "cell_type": "code",
      "metadata": {
        "id": "6bANdeNHbyNJ"
      },
      "source": [
        "def pax_from_fare(fare):\n",
        "  return reg.predict(np.expand_dims(np.array([fare]), axis=1))"
      ],
      "execution_count": null,
      "outputs": []
    },
    {
      "cell_type": "code",
      "metadata": {
        "colab": {
          "base_uri": "https://localhost:8080/"
        },
        "id": "9QQ6uENhcb4_",
        "outputId": "c2ca7765-ad75-498d-e99a-ad9e404350da"
      },
      "source": [
        "pax_from_fare(1500000)"
      ],
      "execution_count": null,
      "outputs": [
        {
          "output_type": "execute_result",
          "data": {
            "text/plain": [
              "array([[36.73648366]])"
            ]
          },
          "metadata": {
            "tags": []
          },
          "execution_count": 67
        }
      ]
    },
    {
      "cell_type": "markdown",
      "metadata": {
        "id": "Kgat3Xdncv5Z"
      },
      "source": [
        "It seems that IDR 1,500,000 is too steep. With this information, stratetgic ticketing offices can adjust their pricing according to their needs."
      ]
    },
    {
      "cell_type": "markdown",
      "metadata": {
        "id": "15Rtej4ddGCe"
      },
      "source": [
        "## Forewords\n",
        "\n",
        "What we have done so far is like a miniaturized, simplified version of what a data scientist and machine learning engineer do.\n",
        "\n",
        "Toy around with the lab provided here and see if you like this kind of workload. Have fun!\n",
        "\n",
        "When you're done with the lab, think about the process we've done together so far. Do you think there's something missing? Something that's not covered yet or maybe something that might come up in an actual cases. Ask away! There's no stupid questions, let's learn together in this process."
      ]
    },
    {
      "cell_type": "code",
      "metadata": {
        "id": "C6sTV4lqcthr"
      },
      "source": [
        ""
      ],
      "execution_count": null,
      "outputs": []
    }
  ]
}