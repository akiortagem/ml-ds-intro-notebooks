{
  "nbformat": 4,
  "nbformat_minor": 0,
  "metadata": {
    "colab": {
      "name": "Lab 1.ipynb",
      "provenance": [],
      "toc_visible": true,
      "authorship_tag": "ABX9TyNUbD/ohXanapt84nyHDjdm",
      "include_colab_link": true
    },
    "kernelspec": {
      "name": "python3",
      "display_name": "Python 3"
    }
  },
  "cells": [
    {
      "cell_type": "markdown",
      "metadata": {
        "id": "view-in-github",
        "colab_type": "text"
      },
      "source": [
        "<a href=\"https://colab.research.google.com/github/akiortagem/ml-ds-intro-notebooks/blob/main/Lab_1_Solution.ipynb\" target=\"_parent\"><img src=\"https://colab.research.google.com/assets/colab-badge.svg\" alt=\"Open In Colab\"/></a>"
      ]
    },
    {
      "cell_type": "markdown",
      "metadata": {
        "id": "Kep7oK3uj2JI"
      },
      "source": [
        "# Data Science Course LAB 1\n",
        "\n",
        "Here's your first lab. It's an easy one, just designed to repeat what you already learn in the slides and expand it a little bit more. You will also encounter exceptions in this lab. Practice a little bit  of problem solving in this lab! Have fun! Don't be afraid to ask me if you have any trouble finishing the lab."
      ]
    },
    {
      "cell_type": "markdown",
      "metadata": {
        "id": "ySlM4UkVnhRN"
      },
      "source": [
        "## Predicting ManHour from Project Specification\n",
        "\n",
        "Problem Statement :\n",
        "> The Project Management Officer GM is currently trying to cooperate with Sales by providing them an easy way to price a project. One of the easiest way to do that is by calculating ManHour of a project. The Data Scientist team is tasked to produce a model that would predict ManHour needed given a project spec."
      ]
    },
    {
      "cell_type": "code",
      "metadata": {
        "id": "KHnXkJzejt87"
      },
      "source": [
        "import numpy as np\n",
        "import pandas as pd\n",
        "import matplotlib.pyplot as plt\n",
        "import seaborn as sns\n",
        "%matplotlib inline"
      ],
      "execution_count": 1,
      "outputs": []
    },
    {
      "cell_type": "markdown",
      "metadata": {
        "id": "RorV2mSMzcGH"
      },
      "source": [
        "Download the data by executing this codeblock"
      ]
    },
    {
      "cell_type": "code",
      "metadata": {
        "colab": {
          "base_uri": "https://localhost:8080/"
        },
        "id": "Fbh7ZJtfr8M_",
        "outputId": "1a9d196e-302d-4975-d151-a2de27f915ce"
      },
      "source": [
        "!wget --no-check-certificate \\\n",
        "\"https://bali.asyst.co.id/public.php?service=files&t=f7aa1e30c29218731a209d4dde0d39cd&download\" \\\n",
        "-O /tmp/project-spec.csv"
      ],
      "execution_count": 20,
      "outputs": [
        {
          "output_type": "stream",
          "text": [
            "--2020-11-20 08:12:09--  https://bali.asyst.co.id/public.php?service=files&t=f7aa1e30c29218731a209d4dde0d39cd&download\n",
            "Resolving bali.asyst.co.id (bali.asyst.co.id)... 103.9.36.27\n",
            "Connecting to bali.asyst.co.id (bali.asyst.co.id)|103.9.36.27|:443... connected.\n",
            "HTTP request sent, awaiting response... 200 OK\n",
            "Length: 3271 (3.2K) [text/csv]\n",
            "Saving to: ‘/tmp/project-spec.csv’\n",
            "\n",
            "/tmp/project-spec.c 100%[===================>]   3.19K  --.-KB/s    in 0s      \n",
            "\n",
            "2020-11-20 08:12:11 (103 MB/s) - ‘/tmp/project-spec.csv’ saved [3271/3271]\n",
            "\n"
          ],
          "name": "stdout"
        }
      ]
    },
    {
      "cell_type": "markdown",
      "metadata": {
        "id": "b3509VrVzgA8"
      },
      "source": [
        "Load the data and preview it!"
      ]
    },
    {
      "cell_type": "code",
      "metadata": {
        "id": "t3YEEQRiten1"
      },
      "source": [
        "project_data = pd.read_csv('/tmp/project-spec.csv')#YOUR CODE HERE\n",
        "\n",
        "#SAMPLE THE DATA BELOW\n",
        "project_data.sample(10)\n",
        "\n",
        "#Expected result : A table of 10 rows displaying the table's data."
      ],
      "execution_count": null,
      "outputs": []
    },
    {
      "cell_type": "markdown",
      "metadata": {
        "id": "lBw6ICEo0iek"
      },
      "source": [
        "Each of the column of the table represents the complexity rating of the project's component.\n",
        "\n",
        "*   ui : UI/Frontend development complexity\n",
        "*   be : Backend development complexity\n",
        "*   algo : Algorithm development complexity\n",
        "*   infra : Infrastructure and deployment complexity\n",
        "*   anz : Business analysis complexity\n",
        "*   aff : Company affinity with PT Asyst\n",
        "*   skl : Skill coverage of PT Asyst developers\n",
        "*   manhour : Actual manhour worked on the project"
      ]
    },
    {
      "cell_type": "markdown",
      "metadata": {
        "id": "I3G31jc91iOc"
      },
      "source": [
        "See if each column in the table has any apparent relations to the target column (manhours)!"
      ]
    },
    {
      "cell_type": "code",
      "metadata": {
        "colab": {
          "base_uri": "https://localhost:8080/",
          "height": 296
        },
        "id": "fD0fHYA60WFf",
        "outputId": "9957ad43-9d31-452d-f094-5d554a8279d4"
      },
      "source": [
        "#YOUR CODE HERE\n",
        "sns.scatterplot(x='ui', y='manhour', data=project_data)\n",
        "#Expected result : visualization describing relationship of each columns to manhours"
      ],
      "execution_count": 46,
      "outputs": [
        {
          "output_type": "execute_result",
          "data": {
            "text/plain": [
              "<matplotlib.axes._subplots.AxesSubplot at 0x7fc6e61cd2b0>"
            ]
          },
          "metadata": {
            "tags": []
          },
          "execution_count": 46
        },
        {
          "output_type": "display_data",
          "data": {
            "image/png": "[encoded data removed]",
            "text/plain": [
              "<Figure size 432x288 with 1 Axes>"
            ]
          },
          "metadata": {
            "tags": [],
            "needs_background": "light"
          }
        }
      ]
    },
    {
      "cell_type": "markdown",
      "metadata": {
        "id": "lnB91TdA2HDz"
      },
      "source": [
        "Now fit and train the data with linear regression!"
      ]
    },
    {
      "cell_type": "code",
      "metadata": {
        "id": "VcCDZYqp17C3"
      },
      "source": [
        "from sklearn.linear_model import LinearRegression"
      ],
      "execution_count": 23,
      "outputs": []
    },
    {
      "cell_type": "code",
      "metadata": {
        "id": "A4soYo_12NOT"
      },
      "source": [
        "'''\n",
        "Hint : Multiple columns for X. Try Googling around on how to select multiple\n",
        "columns with pandas.\n",
        "'''\n",
        "X = project_data[['ui', 'be', 'algo', 'infra', 'anz', 'aff', 'skl']].to_numpy()\n",
        "y = project_data['manhour'].to_numpy()\n",
        "\n",
        "reg = LinearRegression().fit(X, y)"
      ],
      "execution_count": 24,
      "outputs": []
    },
    {
      "cell_type": "markdown",
      "metadata": {
        "id": "q3b0UhXs3LwE"
      },
      "source": [
        "Now that you have fitted your model. Time to make some test prediction! Let's predict manhours for these complexities :\n",
        "\n",
        "ui = 8\n",
        "be = 3\n",
        "algo = 5\n",
        "infra = 2\n",
        "anz = 4\n",
        "aff = 5\n",
        "skl = 5"
      ]
    },
    {
      "cell_type": "code",
      "metadata": {
        "id": "KFC559dm3Jjc"
      },
      "source": [
        "def manhour_predict(features):\n",
        "  features = np.array(features).reshape(1,-1)\n",
        "  return reg.predict(features)"
      ],
      "execution_count": 43,
      "outputs": []
    },
    {
      "cell_type": "code",
      "metadata": {
        "colab": {
          "base_uri": "https://localhost:8080/"
        },
        "id": "3GxuzuvM4MbO",
        "outputId": "32024220-fc41-422a-912d-d941523d4f3e"
      },
      "source": [
        "manhour_predict([8,3,5,2,4,5,5]) #Expected result : ManHour of somewhere in the 6000s"
      ],
      "execution_count": 47,
      "outputs": [
        {
          "output_type": "execute_result",
          "data": {
            "text/plain": [
              "array([6230.93069255])"
            ]
          },
          "metadata": {
            "tags": []
          },
          "execution_count": 47
        }
      ]
    },
    {
      "cell_type": "code",
      "metadata": {
        "id": "DYKYQME_5Cer"
      },
      "source": [
        ""
      ],
      "execution_count": null,
      "outputs": []
    }
  ]
}